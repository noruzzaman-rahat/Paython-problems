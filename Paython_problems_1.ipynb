{
  "nbformat": 4,
  "nbformat_minor": 0,
  "metadata": {
    "colab": {
      "provenance": []
    },
    "kernelspec": {
      "name": "python3",
      "display_name": "Python 3"
    },
    "language_info": {
      "name": "python"
    }
  },
  "cells": [
    {
      "cell_type": "markdown",
      "source": [
        "# **problem**-2.1\n"
      ],
      "metadata": {
        "id": "LvJPVN15inj2"
      }
    },
    {
      "cell_type": "code",
      "source": [
        "# Creating variables\n",
        "name = \"Rahat\"\n",
        "age = 21\n",
        "favorite_color = \"Black\"\n",
        "\n",
        "# Printing with descriptive labels\n",
        "print(\"Name:\", name)\n",
        "print(\"Age:\", age)\n",
        "print(\"Favorite Color:\", favorite_color)\n"
      ],
      "metadata": {
        "colab": {
          "base_uri": "https://localhost:8080/"
        },
        "id": "73p95XAjjkBo",
        "outputId": "7e9acea4-9bb4-42ff-e4bc-828f600f6e81"
      },
      "execution_count": null,
      "outputs": [
        {
          "output_type": "stream",
          "name": "stdout",
          "text": [
            "Name: Rahat\n",
            "Age: 21\n",
            "Favorite Color: Black\n"
          ]
        }
      ]
    },
    {
      "cell_type": "markdown",
      "source": [
        "# **problem** -2.2"
      ],
      "metadata": {
        "id": "w4rrNHhUjvcn"
      }
    },
    {
      "cell_type": "code",
      "source": [
        "\n",
        "integer_var = 25          # int\n",
        "float_var = 12.5          # float\n",
        "string_var = \"Hello\"      # str\n",
        "boolean_var = True        # bool\n",
        "list_var = [1, 2, 3]      # list\n",
        "tuple_var = (4, 5, 6)     # tuple\n",
        "dict_var = {\"name\": \"Rahat\", \"age\": 21}  # dict\n",
        "set_var = {10, 20, 30}    # set\n",
        "\n",
        "\n",
        "print(\"Type of integer_var:\", type(integer_var))\n",
        "print(\"Type of float_var:\", type(float_var))\n",
        "print(\"Type of string_var:\", type(string_var))\n",
        "print(\"Type of boolean_var:\", type(boolean_var))\n",
        "print(\"Type of list_var:\", type(list_var))\n",
        "print(\"Type of tuple_var:\", type(tuple_var))\n",
        "print(\"Type of dict_var:\", type(dict_var))\n",
        "print(\"Type of set_var:\", type(set_var))"
      ],
      "metadata": {
        "id": "r0TZ45H_kW1z",
        "outputId": "3685f461-98ad-4c77-cc8f-92ab7ef3ec50",
        "colab": {
          "base_uri": "https://localhost:8080/"
        }
      },
      "execution_count": null,
      "outputs": [
        {
          "output_type": "stream",
          "name": "stdout",
          "text": [
            "Type of integer_var: <class 'int'>\n",
            "Type of float_var: <class 'float'>\n",
            "Type of string_var: <class 'str'>\n",
            "Type of boolean_var: <class 'bool'>\n",
            "Type of list_var: <class 'list'>\n",
            "Type of tuple_var: <class 'tuple'>\n",
            "Type of dict_var: <class 'dict'>\n",
            "Type of set_var: <class 'set'>\n"
          ]
        }
      ]
    },
    {
      "cell_type": "markdown",
      "source": [],
      "metadata": {
        "id": "5cLWjy_yk6WV"
      }
    },
    {
      "cell_type": "markdown",
      "source": [
        "# **problem**-2.3"
      ],
      "metadata": {
        "id": "3bmbhKlpk_BI"
      }
    },
    {
      "cell_type": "code",
      "source": [
        "\n",
        "length = 7\n",
        "width = 5\n",
        "\n",
        "area = length * width\n",
        "perimeter = 2 * (length + width)\n",
        "\n",
        "\n",
        "print(\"Length:\", length)\n",
        "print(\"Width:\", width)\n",
        "print(\"Area of Rectangle:\", area)\n",
        "print(\"Perimeter of Rectangle:\", perimeter)\n"
      ],
      "metadata": {
        "colab": {
          "base_uri": "https://localhost:8080/"
        },
        "id": "YD6iIuMFllP8",
        "outputId": "d4e3be29-398c-4d63-b581-52f2640dc1af"
      },
      "execution_count": null,
      "outputs": [
        {
          "output_type": "stream",
          "name": "stdout",
          "text": [
            "Length: 7\n",
            "Width: 5\n",
            "Area of Rectangle: 35\n",
            "Perimeter of Rectangle: 24\n"
          ]
        }
      ]
    },
    {
      "cell_type": "markdown",
      "source": [
        "# **problem** -2.4"
      ],
      "metadata": {
        "id": "SM5F-2nKmE_f"
      }
    },
    {
      "cell_type": "code",
      "source": [
        "foods = [\"Biriyani\", \"Hilsa Fish Curry\", \"Kacchi Biriyani\", \"Panta Ilish\", \"Rasgulla\"]\n",
        "\n",
        "print(\"First food:\", foods[0])\n",
        "print(\"Last food:\", foods[-1])\n"
      ],
      "metadata": {
        "colab": {
          "base_uri": "https://localhost:8080/"
        },
        "id": "lwHAeGCjm5gR",
        "outputId": "6eea20a5-3e05-450a-d346-0fe5686601ad"
      },
      "execution_count": 1,
      "outputs": [
        {
          "output_type": "stream",
          "name": "stdout",
          "text": [
            "First food: Biriyani\n",
            "Last food: Rasgulla\n"
          ]
        }
      ]
    },
    {
      "cell_type": "markdown",
      "source": [],
      "metadata": {
        "id": "nxNX20cAnD2a"
      }
    },
    {
      "cell_type": "markdown",
      "source": [
        "# problem **-2.5**"
      ],
      "metadata": {
        "id": "gq1KTj4EnIld"
      }
    },
    {
      "cell_type": "code",
      "source": [
        "numbers = [10, 5, 8, 20, 15]\n",
        "\n",
        "numbers.append(25)\n",
        "numbers.remove(8)\n",
        "numbers.sort()\n",
        "\n",
        "print(numbers)\n"
      ],
      "metadata": {
        "id": "Ik9MUxsaoGJs",
        "outputId": "5c744b15-60f4-4341-a03e-4b1e0728eb78",
        "colab": {
          "base_uri": "https://localhost:8080/"
        }
      },
      "execution_count": null,
      "outputs": [
        {
          "output_type": "stream",
          "name": "stdout",
          "text": [
            "[5, 10, 15, 20, 25]\n"
          ]
        }
      ]
    },
    {
      "cell_type": "markdown",
      "source": [
        "# **problem-2.6**"
      ],
      "metadata": {
        "id": "nz8f5mJt-hFF"
      }
    },
    {
      "cell_type": "code",
      "source": [
        "my_info = {\n",
        "    \"name\": \"Rahat\",\n",
        "     \"age\": 21,\n",
        "    \"city\": \"Dhaka\",\n",
        "    \"University\": \"State University Of Bangladesh\"\n",
        "\n",
        "}\n",
        "print(my_info)"
      ],
      "metadata": {
        "colab": {
          "base_uri": "https://localhost:8080/"
        },
        "id": "bhMHOihA-lrj",
        "outputId": "5058c76b-00fc-4d99-d6f4-034e8c0aeda4"
      },
      "execution_count": 4,
      "outputs": [
        {
          "output_type": "stream",
          "name": "stdout",
          "text": [
            "{'name': 'Rahat', 'age': 21, 'city': 'Dhaka', 'University': 'State University Of Bangladesh'}\n"
          ]
        }
      ]
    },
    {
      "cell_type": "markdown",
      "source": [
        "# **problem-2.7**"
      ],
      "metadata": {
        "id": "1fGqlcxP_7jV"
      }
    },
    {
      "cell_type": "code",
      "source": [
        "famous_place = (\"sundarban\", (21.9497,89.1833))\n",
        "print(famous_place)"
      ],
      "metadata": {
        "colab": {
          "base_uri": "https://localhost:8080/"
        },
        "id": "W456K1Sx__oT",
        "outputId": "6a0bf438-013f-4784-ec76-8812bfe336ed"
      },
      "execution_count": 5,
      "outputs": [
        {
          "output_type": "stream",
          "name": "stdout",
          "text": [
            "('sundarban', (21.9497, 89.1833))\n"
          ]
        }
      ]
    },
    {
      "cell_type": "markdown",
      "source": [
        "# **problem-2.8**"
      ],
      "metadata": {
        "id": "x0Tfj2gtAnid"
      }
    },
    {
      "cell_type": "code",
      "source": [
        "set1 = {\"simanto\", \"rahat\", \"atik\", \"monir\"}\n",
        "set2 = {\"red\", \"rahat\", \"green\", \"simanto\"}\n",
        "\n",
        "union_name = set1.union(set2)\n",
        "intersection_name = set1.intersection(set2)\n",
        "\n",
        "print(\"union: \", union_name)\n",
        "print(\"intersection: \", intersection_name)"
      ],
      "metadata": {
        "colab": {
          "base_uri": "https://localhost:8080/"
        },
        "id": "v-neeosGAqbr",
        "outputId": "339c8f12-8940-4d1f-c41d-7c8926ca2d85"
      },
      "execution_count": 7,
      "outputs": [
        {
          "output_type": "stream",
          "name": "stdout",
          "text": [
            "union:  {'monir', 'rahat', 'red', 'green', 'atik', 'simanto'}\n",
            "intersection:  {'rahat', 'simanto'}\n"
          ]
        }
      ]
    },
    {
      "cell_type": "markdown",
      "source": [
        "# **problem-2.9**"
      ],
      "metadata": {
        "id": "xEbWaQzXCFgk"
      }
    },
    {
      "cell_type": "code",
      "source": [
        "num = int(input(\"number: \"))\n",
        "if num > 0:\n",
        "  print(\"positive number\")\n",
        "elif num < 0:\n",
        "  print(\"negative number\")\n",
        "else:\n",
        "  print(\"Number is Zero\")"
      ],
      "metadata": {
        "colab": {
          "base_uri": "https://localhost:8080/"
        },
        "id": "zgGCA37bCJs7",
        "outputId": "c64336c4-ea75-4936-aa5c-39b49cb79db1"
      },
      "execution_count": 10,
      "outputs": [
        {
          "output_type": "stream",
          "name": "stdout",
          "text": [
            "number: 0\n",
            "Number is Zero\n"
          ]
        }
      ]
    },
    {
      "cell_type": "markdown",
      "source": [
        "# **problem-2.10**"
      ],
      "metadata": {
        "id": "jSdqZITBC2wL"
      }
    },
    {
      "cell_type": "code",
      "source": [],
      "metadata": {
        "id": "B2sYa_0fC6TT"
      },
      "execution_count": null,
      "outputs": []
    }
  ]
}