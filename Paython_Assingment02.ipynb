{
  "nbformat": 4,
  "nbformat_minor": 0,
  "metadata": {
    "colab": {
      "provenance": [],
      "authorship_tag": "ABX9TyMaz3HcuyKIwMlq3Fp+HQpw",
      "include_colab_link": true
    },
    "kernelspec": {
      "name": "python3",
      "display_name": "Python 3"
    },
    "language_info": {
      "name": "python"
    }
  },
  "cells": [
    {
      "cell_type": "markdown",
      "metadata": {
        "id": "view-in-github",
        "colab_type": "text"
      },
      "source": [
        "<a href=\"https://colab.research.google.com/github/noruzzaman-rahat/Paython-problems/blob/main/Paython_Assingment02.ipynb\" target=\"_parent\"><img src=\"https://colab.research.google.com/assets/colab-badge.svg\" alt=\"Open In Colab\"/></a>"
      ]
    },
    {
      "cell_type": "markdown",
      "source": [
        "# **problem**-2.1\n"
      ],
      "metadata": {
        "id": "LvJPVN15inj2"
      }
    },
    {
      "cell_type": "code",
      "source": [
        "# Creating variables\n",
        "name = \"Rahat\"\n",
        "age = 21\n",
        "favorite_color = \"Black\"\n",
        "\n",
        "# Printing with descriptive labels\n",
        "print(\"Name:\", name)\n",
        "print(\"Age:\", age)\n",
        "print(\"Favorite Color:\", favorite_color)\n"
      ],
      "metadata": {
        "colab": {
          "base_uri": "https://localhost:8080/"
        },
        "id": "73p95XAjjkBo",
        "outputId": "7e9acea4-9bb4-42ff-e4bc-828f600f6e81"
      },
      "execution_count": null,
      "outputs": [
        {
          "output_type": "stream",
          "name": "stdout",
          "text": [
            "Name: Rahat\n",
            "Age: 21\n",
            "Favorite Color: Black\n"
          ]
        }
      ]
    },
    {
      "cell_type": "markdown",
      "source": [
        "# **problem** -2.2"
      ],
      "metadata": {
        "id": "w4rrNHhUjvcn"
      }
    },
    {
      "cell_type": "code",
      "source": [
        "\n",
        "integer_var = 25          # int\n",
        "float_var = 12.5          # float\n",
        "string_var = \"Hello\"      # str\n",
        "boolean_var = True        # bool\n",
        "list_var = [1, 2, 3]      # list\n",
        "tuple_var = (4, 5, 6)     # tuple\n",
        "dict_var = {\"name\": \"Rahat\", \"age\": 21}  # dict\n",
        "set_var = {10, 20, 30}    # set\n",
        "\n",
        "\n",
        "print(\"Type of integer_var:\", type(integer_var))\n",
        "print(\"Type of float_var:\", type(float_var))\n",
        "print(\"Type of string_var:\", type(string_var))\n",
        "print(\"Type of boolean_var:\", type(boolean_var))\n",
        "print(\"Type of list_var:\", type(list_var))\n",
        "print(\"Type of tuple_var:\", type(tuple_var))\n",
        "print(\"Type of dict_var:\", type(dict_var))\n",
        "print(\"Type of set_var:\", type(set_var))"
      ],
      "metadata": {
        "id": "r0TZ45H_kW1z",
        "outputId": "3685f461-98ad-4c77-cc8f-92ab7ef3ec50",
        "colab": {
          "base_uri": "https://localhost:8080/"
        }
      },
      "execution_count": null,
      "outputs": [
        {
          "output_type": "stream",
          "name": "stdout",
          "text": [
            "Type of integer_var: <class 'int'>\n",
            "Type of float_var: <class 'float'>\n",
            "Type of string_var: <class 'str'>\n",
            "Type of boolean_var: <class 'bool'>\n",
            "Type of list_var: <class 'list'>\n",
            "Type of tuple_var: <class 'tuple'>\n",
            "Type of dict_var: <class 'dict'>\n",
            "Type of set_var: <class 'set'>\n"
          ]
        }
      ]
    },
    {
      "cell_type": "markdown",
      "source": [],
      "metadata": {
        "id": "5cLWjy_yk6WV"
      }
    },
    {
      "cell_type": "markdown",
      "source": [
        "# **problem**-2.3"
      ],
      "metadata": {
        "id": "3bmbhKlpk_BI"
      }
    },
    {
      "cell_type": "code",
      "source": [
        "\n",
        "length = 7\n",
        "width = 5\n",
        "\n",
        "area = length * width\n",
        "perimeter = 2 * (length + width)\n",
        "\n",
        "\n",
        "print(\"Length:\", length)\n",
        "print(\"Width:\", width)\n",
        "print(\"Area of Rectangle:\", area)\n",
        "print(\"Perimeter of Rectangle:\", perimeter)\n"
      ],
      "metadata": {
        "colab": {
          "base_uri": "https://localhost:8080/"
        },
        "id": "YD6iIuMFllP8",
        "outputId": "d4e3be29-398c-4d63-b581-52f2640dc1af"
      },
      "execution_count": null,
      "outputs": [
        {
          "output_type": "stream",
          "name": "stdout",
          "text": [
            "Length: 7\n",
            "Width: 5\n",
            "Area of Rectangle: 35\n",
            "Perimeter of Rectangle: 24\n"
          ]
        }
      ]
    },
    {
      "cell_type": "markdown",
      "source": [
        "# **problem** -2.4"
      ],
      "metadata": {
        "id": "SM5F-2nKmE_f"
      }
    },
    {
      "cell_type": "code",
      "source": [
        "foods = [\"Biriyani\", \"Hilsa Fish Curry\", \"Kacchi Biriyani\", \"Panta Ilish\", \"Rasgulla\"]\n",
        "\n",
        "print(\"First food:\", foods[0])\n",
        "print(\"Last food:\", foods[-1])\n"
      ],
      "metadata": {
        "colab": {
          "base_uri": "https://localhost:8080/"
        },
        "id": "lwHAeGCjm5gR",
        "outputId": "6eea20a5-3e05-450a-d346-0fe5686601ad"
      },
      "execution_count": null,
      "outputs": [
        {
          "output_type": "stream",
          "name": "stdout",
          "text": [
            "First food: Biriyani\n",
            "Last food: Rasgulla\n"
          ]
        }
      ]
    },
    {
      "cell_type": "markdown",
      "source": [],
      "metadata": {
        "id": "nxNX20cAnD2a"
      }
    },
    {
      "cell_type": "markdown",
      "source": [
        "# problem **-2.5**"
      ],
      "metadata": {
        "id": "gq1KTj4EnIld"
      }
    },
    {
      "cell_type": "code",
      "source": [
        "numbers = [10, 5, 8, 20, 15]\n",
        "\n",
        "numbers.append(25)\n",
        "numbers.remove(8)\n",
        "numbers.sort()\n",
        "\n",
        "print(numbers)\n"
      ],
      "metadata": {
        "id": "Ik9MUxsaoGJs",
        "outputId": "5c744b15-60f4-4341-a03e-4b1e0728eb78",
        "colab": {
          "base_uri": "https://localhost:8080/"
        }
      },
      "execution_count": null,
      "outputs": [
        {
          "output_type": "stream",
          "name": "stdout",
          "text": [
            "[5, 10, 15, 20, 25]\n"
          ]
        }
      ]
    },
    {
      "cell_type": "markdown",
      "source": [
        "# **problem-2.6**"
      ],
      "metadata": {
        "id": "nz8f5mJt-hFF"
      }
    },
    {
      "cell_type": "code",
      "source": [
        "my_info = {\n",
        "    \"name\": \"Rahat\",\n",
        "     \"age\": 21,\n",
        "    \"city\": \"Dhaka\",\n",
        "    \"University\": \"State University Of Bangladesh\"\n",
        "\n",
        "}\n",
        "print(my_info)"
      ],
      "metadata": {
        "colab": {
          "base_uri": "https://localhost:8080/"
        },
        "id": "bhMHOihA-lrj",
        "outputId": "5058c76b-00fc-4d99-d6f4-034e8c0aeda4"
      },
      "execution_count": null,
      "outputs": [
        {
          "output_type": "stream",
          "name": "stdout",
          "text": [
            "{'name': 'Rahat', 'age': 21, 'city': 'Dhaka', 'University': 'State University Of Bangladesh'}\n"
          ]
        }
      ]
    },
    {
      "cell_type": "markdown",
      "source": [
        "# **problem-2.7**"
      ],
      "metadata": {
        "id": "1fGqlcxP_7jV"
      }
    },
    {
      "cell_type": "code",
      "source": [
        "famous_place = (\"sundarban\", (21.9497,89.1833))\n",
        "print(famous_place)"
      ],
      "metadata": {
        "colab": {
          "base_uri": "https://localhost:8080/"
        },
        "id": "W456K1Sx__oT",
        "outputId": "6a0bf438-013f-4784-ec76-8812bfe336ed"
      },
      "execution_count": null,
      "outputs": [
        {
          "output_type": "stream",
          "name": "stdout",
          "text": [
            "('sundarban', (21.9497, 89.1833))\n"
          ]
        }
      ]
    },
    {
      "cell_type": "markdown",
      "source": [
        "# **problem-2.8**"
      ],
      "metadata": {
        "id": "x0Tfj2gtAnid"
      }
    },
    {
      "cell_type": "code",
      "source": [
        "set1 = {\"simanto\", \"rahat\", \"atik\", \"monir\"}\n",
        "set2 = {\"red\", \"rahat\", \"green\", \"simanto\"}\n",
        "\n",
        "union_name = set1.union(set2)\n",
        "intersection_name = set1.intersection(set2)\n",
        "\n",
        "print(\"union: \", union_name)\n",
        "print(\"intersection: \", intersection_name)"
      ],
      "metadata": {
        "colab": {
          "base_uri": "https://localhost:8080/"
        },
        "id": "v-neeosGAqbr",
        "outputId": "339c8f12-8940-4d1f-c41d-7c8926ca2d85"
      },
      "execution_count": null,
      "outputs": [
        {
          "output_type": "stream",
          "name": "stdout",
          "text": [
            "union:  {'monir', 'rahat', 'red', 'green', 'atik', 'simanto'}\n",
            "intersection:  {'rahat', 'simanto'}\n"
          ]
        }
      ]
    },
    {
      "cell_type": "markdown",
      "source": [
        "# **problem-2.9**"
      ],
      "metadata": {
        "id": "xEbWaQzXCFgk"
      }
    },
    {
      "cell_type": "code",
      "source": [
        "num = int(input(\"number: \"))\n",
        "if num > 0:\n",
        "  print(\"positive number\")\n",
        "elif num < 0:\n",
        "  print(\"negative number\")\n",
        "else:\n",
        "  print(\"Number is Zero\")"
      ],
      "metadata": {
        "colab": {
          "base_uri": "https://localhost:8080/"
        },
        "id": "zgGCA37bCJs7",
        "outputId": "c64336c4-ea75-4936-aa5c-39b49cb79db1"
      },
      "execution_count": null,
      "outputs": [
        {
          "output_type": "stream",
          "name": "stdout",
          "text": [
            "number: 0\n",
            "Number is Zero\n"
          ]
        }
      ]
    },
    {
      "cell_type": "markdown",
      "source": [
        "# **problem-2.10**"
      ],
      "metadata": {
        "id": "jSdqZITBC2wL"
      }
    },
    {
      "cell_type": "code",
      "source": [
        "\n",
        "\n",
        "age = int(input(\"Enter your age: \"))\n",
        "student_status = input(\"Are you a student? (yes/no): \").strip().lower()\n",
        "\n",
        "if age < 25:\n",
        "    if student_status == \"yes\":\n",
        "        print(\"Eligible for discount\")\n",
        "    else:\n",
        "        print(\"Not eligible for discount\")\n",
        "else:\n",
        "    if age > 60:\n",
        "        print(\"Eligible for discount\")\n",
        "    else:\n",
        "        print(\"Not eligible for discount\")\n"
      ],
      "metadata": {
        "id": "B2sYa_0fC6TT",
        "colab": {
          "base_uri": "https://localhost:8080/"
        },
        "outputId": "5805f525-c9ca-4962-baa3-a0272b0e3d45"
      },
      "execution_count": 13,
      "outputs": [
        {
          "output_type": "stream",
          "name": "stdout",
          "text": [
            "Enter your age: 22\n",
            "Are you a student? (yes/no): yes\n",
            "Eligible for discount\n"
          ]
        }
      ]
    },
    {
      "cell_type": "markdown",
      "source": [
        "# **problem-2.11**"
      ],
      "metadata": {
        "id": "IYgPaZYdFzwo"
      }
    },
    {
      "cell_type": "code",
      "source": [
        " #using for loop\n",
        "for i in range(1, 11):\n",
        "    print(i * 2)\n"
      ],
      "metadata": {
        "colab": {
          "base_uri": "https://localhost:8080/"
        },
        "id": "xvTGWVdrF3hX",
        "outputId": "f9d9f1e9-4bfa-4543-dff6-a50a1597fac8"
      },
      "execution_count": 15,
      "outputs": [
        {
          "output_type": "stream",
          "name": "stdout",
          "text": [
            "2\n",
            "4\n",
            "6\n",
            "8\n",
            "10\n",
            "12\n",
            "14\n",
            "16\n",
            "18\n",
            "20\n"
          ]
        }
      ]
    },
    {
      "cell_type": "markdown",
      "source": [
        "# **problem-2.11**"
      ],
      "metadata": {
        "id": "oPJXxnOiGU8r"
      }
    },
    {
      "cell_type": "code",
      "source": [
        "#using while loop\n",
        "count = 1\n",
        "while count <= 10:\n",
        "    print(count * 2)\n",
        "    count += 1\n"
      ],
      "metadata": {
        "colab": {
          "base_uri": "https://localhost:8080/"
        },
        "id": "akaFs9VRGY2Q",
        "outputId": "251c5fdf-3d83-40be-8c8e-7b13b1cb9530"
      },
      "execution_count": 16,
      "outputs": [
        {
          "output_type": "stream",
          "name": "stdout",
          "text": [
            "2\n",
            "4\n",
            "6\n",
            "8\n",
            "10\n",
            "12\n",
            "14\n",
            "16\n",
            "18\n",
            "20\n"
          ]
        }
      ]
    },
    {
      "cell_type": "markdown",
      "source": [
        "# **problem-2.12**"
      ],
      "metadata": {
        "id": "zuNERH3AGdST"
      }
    },
    {
      "cell_type": "code",
      "source": [
        "\n",
        "\n",
        "rows = int(input(\"number of rows: \"))\n",
        "\n",
        "for i in range(1, rows + 1):\n",
        "\n",
        "    for j in range(rows - i):\n",
        "        print(\" \", end=\" \")\n",
        "\n",
        "\n",
        "    for j in range(1, i + 1):\n",
        "        print(j, end=\" \")\n",
        "\n",
        "\n",
        "    for j in range(i - 1, 0, -1):\n",
        "        print(j, end=\" \")\n",
        "\n",
        "    print()\n"
      ],
      "metadata": {
        "colab": {
          "base_uri": "https://localhost:8080/"
        },
        "id": "fIZz0YRZGgvf",
        "outputId": "b5d1ece7-6ad2-4194-cef8-670ac71c3f92"
      },
      "execution_count": 18,
      "outputs": [
        {
          "output_type": "stream",
          "name": "stdout",
          "text": [
            "number of rows: 3\n",
            "    1 \n",
            "  1 2 1 \n",
            "1 2 3 2 1 \n"
          ]
        }
      ]
    },
    {
      "cell_type": "markdown",
      "source": [
        "# **problem-2.13**"
      ],
      "metadata": {
        "id": "tGZONnzOHIHW"
      }
    },
    {
      "cell_type": "code",
      "source": [
        "def celsius_to_fahrenheit(celsius):\n",
        "    fahrenheit = (celsius * 9/5) + 32\n",
        "    return fahrenheit\n",
        "\n",
        "\n",
        "c = float(input(\"Enter temperature in Celsius: \"))\n",
        "f = celsius_to_fahrenheit(c)\n",
        "print(f\"{c}°C = {f}°F\")\n"
      ],
      "metadata": {
        "colab": {
          "base_uri": "https://localhost:8080/"
        },
        "id": "YE0fq6pQHMEs",
        "outputId": "264cceda-e5ae-4d61-dfda-96f6669fb00a"
      },
      "execution_count": 19,
      "outputs": [
        {
          "output_type": "stream",
          "name": "stdout",
          "text": [
            "Enter temperature in Celsius: 0\n",
            "0.0°C = 32.0°F\n"
          ]
        }
      ]
    },
    {
      "cell_type": "markdown",
      "source": [
        "# **problem-2.14**"
      ],
      "metadata": {
        "id": "YUmYAFeoHcx3"
      }
    },
    {
      "cell_type": "code",
      "source": [
        "def rectangle_area(length=5, width=10):\n",
        "    return length * width\n",
        "\n",
        "# Example usage:\n",
        "print(\"Default area:\", rectangle_area())\n",
        "\n"
      ],
      "metadata": {
        "colab": {
          "base_uri": "https://localhost:8080/"
        },
        "id": "xjjLzrijHgCK",
        "outputId": "84b66382-6ed3-454c-d2e9-effc4cfe45ee"
      },
      "execution_count": 22,
      "outputs": [
        {
          "output_type": "stream",
          "name": "stdout",
          "text": [
            "Default area: 50\n"
          ]
        }
      ]
    }
  ]
}